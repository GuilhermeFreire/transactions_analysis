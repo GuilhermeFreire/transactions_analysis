{
 "cells": [
  {
   "cell_type": "code",
   "execution_count": 1,
   "metadata": {},
   "outputs": [],
   "source": [
    "import numpy as np\n",
    "import pandas as pd\n",
    "import matplotlib.pyplot as plt"
   ]
  },
  {
   "cell_type": "code",
   "execution_count": 2,
   "metadata": {},
   "outputs": [
    {
     "data": {
      "text/html": [
       "<div>\n",
       "<style scoped>\n",
       "    .dataframe tbody tr th:only-of-type {\n",
       "        vertical-align: middle;\n",
       "    }\n",
       "\n",
       "    .dataframe tbody tr th {\n",
       "        vertical-align: top;\n",
       "    }\n",
       "\n",
       "    .dataframe thead th {\n",
       "        text-align: right;\n",
       "    }\n",
       "</style>\n",
       "<table border=\"1\" class=\"dataframe\">\n",
       "  <thead>\n",
       "    <tr style=\"text-align: right;\">\n",
       "      <th></th>\n",
       "      <th>Sender</th>\n",
       "      <th>Timestamp</th>\n",
       "      <th>Amount</th>\n",
       "      <th>Currency</th>\n",
       "      <th>Destination</th>\n",
       "    </tr>\n",
       "  </thead>\n",
       "  <tbody>\n",
       "    <tr>\n",
       "      <th>0</th>\n",
       "      <td>r3kmLJN5D28dHuH8vZNUZpMC43pEHpaocV</td>\n",
       "      <td>2013-01-02T06:43:20+00:00</td>\n",
       "      <td>1.000000e+10</td>\n",
       "      <td>XRP</td>\n",
       "      <td>rLQBHVhFnaC5gLEkgr6HgBJJ3bgeZHg9cj</td>\n",
       "    </tr>\n",
       "    <tr>\n",
       "      <th>1</th>\n",
       "      <td>rD1jovjQeEpvaDwn9wKaYokkXXrqo4D23x</td>\n",
       "      <td>2013-01-02T16:57:20+00:00</td>\n",
       "      <td>1.000000e+06</td>\n",
       "      <td>XRP</td>\n",
       "      <td>rLdqy2isubsxfwNhAQXvDzDrwBeGiGMi2r</td>\n",
       "    </tr>\n",
       "    <tr>\n",
       "      <th>2</th>\n",
       "      <td>rD1jovjQeEpvaDwn9wKaYokkXXrqo4D23x</td>\n",
       "      <td>2013-01-02T17:08:20+00:00</td>\n",
       "      <td>1.000000e+06</td>\n",
       "      <td>XRP</td>\n",
       "      <td>rLdqy2isubsxfwNhAQXvDzDrwBeGiGMi2r</td>\n",
       "    </tr>\n",
       "    <tr>\n",
       "      <th>3</th>\n",
       "      <td>rD1jovjQeEpvaDwn9wKaYokkXXrqo4D23x</td>\n",
       "      <td>2013-01-02T17:08:40+00:00</td>\n",
       "      <td>1.000000e+06</td>\n",
       "      <td>XRP</td>\n",
       "      <td>rLdqy2isubsxfwNhAQXvDzDrwBeGiGMi2r</td>\n",
       "    </tr>\n",
       "    <tr>\n",
       "      <th>4</th>\n",
       "      <td>rD1jovjQeEpvaDwn9wKaYokkXXrqo4D23x</td>\n",
       "      <td>2013-01-02T17:09:40+00:00</td>\n",
       "      <td>1.200000e+07</td>\n",
       "      <td>XRP</td>\n",
       "      <td>rLdqy2isubsxfwNhAQXvDzDrwBeGiGMi2r</td>\n",
       "    </tr>\n",
       "  </tbody>\n",
       "</table>\n",
       "</div>"
      ],
      "text/plain": [
       "                               Sender                  Timestamp  \\\n",
       "0  r3kmLJN5D28dHuH8vZNUZpMC43pEHpaocV  2013-01-02T06:43:20+00:00   \n",
       "1  rD1jovjQeEpvaDwn9wKaYokkXXrqo4D23x  2013-01-02T16:57:20+00:00   \n",
       "2  rD1jovjQeEpvaDwn9wKaYokkXXrqo4D23x  2013-01-02T17:08:20+00:00   \n",
       "3  rD1jovjQeEpvaDwn9wKaYokkXXrqo4D23x  2013-01-02T17:08:40+00:00   \n",
       "4  rD1jovjQeEpvaDwn9wKaYokkXXrqo4D23x  2013-01-02T17:09:40+00:00   \n",
       "\n",
       "         Amount Currency                         Destination  \n",
       "0  1.000000e+10      XRP  rLQBHVhFnaC5gLEkgr6HgBJJ3bgeZHg9cj  \n",
       "1  1.000000e+06      XRP  rLdqy2isubsxfwNhAQXvDzDrwBeGiGMi2r  \n",
       "2  1.000000e+06      XRP  rLdqy2isubsxfwNhAQXvDzDrwBeGiGMi2r  \n",
       "3  1.000000e+06      XRP  rLdqy2isubsxfwNhAQXvDzDrwBeGiGMi2r  \n",
       "4  1.200000e+07      XRP  rLdqy2isubsxfwNhAQXvDzDrwBeGiGMi2r  "
      ]
     },
     "execution_count": 2,
     "metadata": {},
     "output_type": "execute_result"
    }
   ],
   "source": [
    "transactions = pd.read_csv(\"ripple_transactions.csv\")\n",
    "transactions.head()"
   ]
  },
  {
   "cell_type": "code",
   "execution_count": 4,
   "metadata": {},
   "outputs": [
    {
     "data": {
      "text/plain": [
       "Sender         23228962\n",
       "Timestamp      23228962\n",
       "Amount         23228962\n",
       "Currency       23228962\n",
       "Destination    23228962\n",
       "dtype: int64"
      ]
     },
     "execution_count": 4,
     "metadata": {},
     "output_type": "execute_result"
    }
   ],
   "source": [
    "transactions.count()"
   ]
  },
  {
   "cell_type": "markdown",
   "metadata": {},
   "source": [
    "## Count senders and receivers"
   ]
  },
  {
   "cell_type": "code",
   "execution_count": 10,
   "metadata": {},
   "outputs": [
    {
     "name": "stdout",
     "output_type": "stream",
     "text": [
      "Number of senders: 89848\n",
      "Number of receivers: 182810\n"
     ]
    }
   ],
   "source": [
    "senders = transactions[\"Sender\"].unique()\n",
    "receivers = transactions[\"Destination\"].unique()\n",
    "print(f\"Number of senders: {len(senders)}\")\n",
    "print(f\"Number of receivers: {len(receivers)}\")"
   ]
  },
  {
   "cell_type": "markdown",
   "metadata": {},
   "source": [
    "## Overlap between sender and receivers"
   ]
  },
  {
   "cell_type": "code",
   "execution_count": 19,
   "metadata": {},
   "outputs": [
    {
     "name": "stdout",
     "output_type": "stream",
     "text": [
      "Number of overlapping senders and receivers 89620\n"
     ]
    }
   ],
   "source": [
    "txrx = pd.Index(senders).intersection(pd.Index(receivers))\n",
    "print(f\"Number of overlapping senders and receivers {len(txrx)}\")"
   ]
  }
 ],
 "metadata": {
  "kernelspec": {
   "display_name": "Python 3",
   "language": "python",
   "name": "python3"
  },
  "language_info": {
   "codemirror_mode": {
    "name": "ipython",
    "version": 3
   },
   "file_extension": ".py",
   "mimetype": "text/x-python",
   "name": "python",
   "nbconvert_exporter": "python",
   "pygments_lexer": "ipython3",
   "version": "3.7.4"
  }
 },
 "nbformat": 4,
 "nbformat_minor": 4
}
